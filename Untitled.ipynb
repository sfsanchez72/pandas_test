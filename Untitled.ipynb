{
 "cells": [
  {
   "cell_type": "code",
   "execution_count": 3,
   "metadata": {
    "collapsed": false
   },
   "outputs": [
    {
     "ename": "Warning",
     "evalue": "Bareword found where operator expected at reply input line 1, near \"#line 1 \"reply input\"\n%matplotlib inline\"\n\n\t(Missing operator before inline?)\n\nBareword found where operator expected at reply input line 5, near \"*\nimport matplotlib\"\n\n\t(Missing operator before matplotlib?)\n\nSemicolon seems to be missing at reply input line 10.\n",
     "output_type": "error",
     "traceback": [
      "Bareword found where operator expected at reply input line 1, near \"#line 1 \"reply input\"\n%matplotlib inline\"\n\n\t(Missing operator before inline?)\n\nBareword found where operator expected at reply input line 5, near \"*\nimport matplotlib\"\n\n\t(Missing operator before matplotlib?)\n\nSemicolon seems to be missing at reply input line 10.\n"
     ]
    },
    {
     "ename": "Warning Error",
     "evalue": "Bareword found where operator expected at reply input line 1, near \"#line 1 \"reply input\"\n%matplotlib inline\"\n\n\t(Missing operator before inline?)\n\nBareword found where operator expected at reply input line 5, near \"*\nimport matplotlib\"\n\n\t(Missing operator before matplotlib?)\n\nSemicolon seems to be missing at reply input line 10.\n\nsyntax error at reply input line 2, near \"#line 1 \"reply input\"\n%matplotlib inline\nimport \"\nBEGIN not safe after errors--compilation aborted at reply input line 30.\n\n",
     "output_type": "error",
     "traceback": [
      "Bareword found where operator expected at reply input line 1, near \"#line 1 \"reply input\"\n%matplotlib inline\"\n\n\t(Missing operator before inline?)\n\nBareword found where operator expected at reply input line 5, near \"*\nimport matplotlib\"\n\n\t(Missing operator before matplotlib?)\n\nSemicolon seems to be missing at reply input line 10.\n",
      "syntax error at reply input line 2, near \"#line 1 \"reply input\"\n%matplotlib inline\nimport \"\nBEGIN not safe after errors--compilation aborted at reply input line 30.\n\n"
     ]
    },
    {
     "ename": "Error",
     "evalue": "syntax error at reply input line 2, near \"#line 1 \"reply input\"\n%matplotlib inline\nimport \"\nBEGIN not safe after errors--compilation aborted at reply input line 30.\n\n",
     "output_type": "error",
     "traceback": [
      "syntax error at reply input line 2, near \"#line 1 \"reply input\"\n%matplotlib inline\nimport \"\nBEGIN not safe after errors--compilation aborted at reply input line 30.\n\n"
     ]
    }
   ],
   "source": [
    "%matplotlib inline\n",
    "import numpy as np\n",
    "import pandas as pd\n",
    "from pylab import *\n",
    "import matplotlib\n",
    "import plplot\n",
    "from scipy import stats\n",
    "#from io import StringIO\n",
    "print(pd.__version__)\n",
    "#AttributeError: 'Series' object has no attribute 'to_numpy'\n",
    "import re\n",
    "\n",
    "import math\n",
    "import astropy as astro\n",
    "import scipy.ndimage as spimage\n",
    "from astropy.io import fits, ascii\n",
    "from astropy.table import Table\n",
    "from astropy.cosmology import WMAP9 as cosmo\n",
    "import matplotlib as mpl\n",
    "from numpy import std as biweight_midvariance\n",
    "import matplotlib.cm as cm\n",
    "\n",
    "from scipy import optimize\n",
    "from scipy.stats import gaussian_kde\n",
    "from matplotlib import colors\n"
   ]
  },
  {
   "cell_type": "code",
   "execution_count": null,
   "metadata": {
    "collapsed": false
   },
   "outputs": [],
   "source": []
  }
 ],
 "metadata": {
  "kernelspec": {
   "argv": [
    "/usr/bin/perl",
    "-MDevel::IPerl",
    "-e Devel::IPerl::main",
    "kernel",
    "{connection_file}"
   ],
   "display_name": "IPerl 0.009",
   "env": null,
   "interrupt_mode": "signal",
   "language": "perl",
   "metadata": null,
   "name": "iperl"
  },
  "name": "Untitled.ipynb"
 },
 "nbformat": 4,
 "nbformat_minor": 2
}
